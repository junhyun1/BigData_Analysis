{
  "nbformat": 4,
  "nbformat_minor": 0,
  "metadata": {
    "colab": {
      "name": "파이썬 네이버 API를 활용한 웹 크롤링",
      "version": "0.3.2",
      "provenance": [],
      "collapsed_sections": [],
      "include_colab_link": true
    },
    "kernelspec": {
      "name": "python3",
      "display_name": "Python 3"
    }
  },
  "cells": [
    {
      "cell_type": "markdown",
      "metadata": {
        "id": "view-in-github",
        "colab_type": "text"
      },
      "source": [
        "<a href=\"https://colab.research.google.com/github/junhyun1/BigData_Analysis/blob/master/%ED%8C%8C%EC%9D%B4%EC%8D%AC_%EB%84%A4%EC%9D%B4%EB%B2%84_API%EB%A5%BC_%ED%99%9C%EC%9A%A9%ED%95%9C_%EC%9B%B9_%ED%81%AC%EB%A1%A4%EB%A7%81.ipynb\" target=\"_parent\"><img src=\"https://colab.research.google.com/assets/colab-badge.svg\" alt=\"Open In Colab\"/></a>"
      ]
    },
    {
      "metadata": {
        "id": "6hPTo0WROBBc",
        "colab_type": "code",
        "colab": {
          "base_uri": "https://localhost:8080/",
          "height": 1819
        },
        "outputId": "80d23281-07c5-4b8a-a548-299ceb8bfa82"
      },
      "cell_type": "code",
      "source": [
        "import os\n",
        "import sys\n",
        "import urllib.request\n",
        "client_id = \"NqhVgFsoaiTLMXJMGUeX\"\n",
        "client_secret = \"\"\n",
        "encText = urllib.parse.quote(\"빅데이터\")\n",
        "url = \"https://openapi.naver.com/v1/search/blog?query=\" + encText # json 결과\n",
        "# url = \"https://openapi.naver.com/v1/search/blog.xml?query=\" + encText # xml 결과\n",
        "request = urllib.request.Request(url)\n",
        "request.add_header(\"X-Naver-Client-Id\",client_id)\n",
        "request.add_header(\"X-Naver-Client-Secret\",client_secret)\n",
        "response = urllib.request.urlopen(request)\n",
        "rescode = response.getcode()\n",
        "if(rescode==200):\n",
        "    response_body = response.read()\n",
        "    print(response_body.decode('utf-8'))\n",
        "else:\n",
        "    print(\"Error Code:\" + rescode)"
      ],
      "execution_count": 2,
      "outputs": [
        {
          "output_type": "stream",
          "text": [
            "{\n",
            "\"lastBuildDate\": \"Mon, 18 Mar 2019 19:15:13 +0900\",\n",
            "\"total\": 525039,\n",
            "\"start\": 1,\n",
            "\"display\": 10,\n",
            "\"items\": [\n",
            "{\n",
            "\"title\": \"<b>빅데이터</b>전문가자격증 이렇게 해보자!\",\n",
            "\"link\": \"https://blog.naver.com/imim0123?Redirect=Log&amp;logNo=221476792442\",\n",
            "\"description\": \"그래서 저는 <b>빅데이터</b>전문가자격증을 취득해서 새로운 삶을 개척해나갈려고 결심을 하게 되었는데요.... 처음에 <b>빅데이터</b>전문가자격증을 취득하려고 했을 때, 정말 막막하더라고요. 난생 처음 배워보는... \",\n",
            "\"bloggername\": \"한결-더 좋은 세상\",\n",
            "\"bloggerlink\": \"https://blog.naver.com/imim0123\",\n",
            "\"postdate\": \"20190228\"\n",
            "\n",
            "},\n",
            "{\n",
            "\"title\": \"<b>빅데이터</b>학원 새로운 적성의 발견\",\n",
            "\"link\": \"https://blog.naver.com/co_os2?Redirect=Log&amp;logNo=221481785558\",\n",
            "\"description\": \"4차 산업 시대의 핵심 기술이자 키워드로 자리 잡은 <b>빅데이터</b> 분야 전문가를 양성하기 위해 개설된 ‘<b>빅데이터</b> UI과정’은 대량의 데이터를 분석하고 저장하는 방법을 교육받게 되는데. 자바와 파이썬으로... \",\n",
            "\"bloggername\": \"실전스터디교육\",\n",
            "\"bloggerlink\": \"https://blog.naver.com/co_os2\",\n",
            "\"postdate\": \"20190306\"\n",
            "\n",
            "},\n",
            "{\n",
            "\"title\": \"4차 산업혁명 - 로봇, <b>빅데이터</b>, 사물 인터넷, 지적재산, 수퍼... \",\n",
            "\"link\": \"https://blog.naver.com/hereiamku?Redirect=Log&amp;logNo=221487521453\",\n",
            "\"description\": \"우리는 의식하고 있지 못하고 있지만, 세상은 4차 혁명을 통해 개인의 정보를 네트워크로 연결된 <b>빅데이터</b> 수집망을 통해 개인의 소비 패턴, 잠재적 구매력, 신용, 자산 보유 등등 방대한 데이터를 채집하고... \",\n",
            "\"bloggername\": \"꽃다믄향기의 투자 노트\",\n",
            "\"bloggerlink\": \"https://blog.naver.com/hereiamku\",\n",
            "\"postdate\": \"20190313\"\n",
            "\n",
            "},\n",
            "{\n",
            "\"title\": \"[스마트팜 <b>빅데이터</b> 활용모델 개발]&quot;빨갛고 탐스러운 딸기가... \",\n",
            "\"link\": \"https://blog.naver.com/nong-up?Redirect=Log&amp;logNo=221487317293\",\n",
            "\"description\": \"2018년 11월부터 2019년 5월까지 진행되는 '스마트팜 <b>빅데이터</b> 활용 모델 개발' 프로젝트는 농림부와 농정원이 초보 딸기농부들을 중심으로 100개 농가를 선정해 작기별로 농작업 데이터를 축적하고 실시간으로 SNS... \",\n",
            "\"bloggername\": \"더농부\",\n",
            "\"bloggerlink\": \"https://blog.naver.com/nong-up\",\n",
            "\"postdate\": \"20190314\"\n",
            "\n",
            "},\n",
            "{\n",
            "\"title\": \"<b>빅데이터</b>로 보는 창원이야기\",\n",
            "\"link\": \"https://blog.naver.com/buoasis?Redirect=Log&amp;logNo=221489817892\",\n",
            "\"description\": \"이번에는 <b>빅데이터</b>를 중심으로 창원이 어느 위치에 왔는지 보려고 합니다. 창원에 투자 하라는 것... 부동산날씨 <b>빅데이터</b>로 알아본 향후 1년간의 전국 부동산 전망 입니다. 세사하락 예상지역 제주입니다.... \",\n",
            "\"bloggername\": \"나눔부자의 경제여행\",\n",
            "\"bloggerlink\": \"https://blog.naver.com/buoasis\",\n",
            "\"postdate\": \"20190316\"\n",
            "\n",
            "},\n",
            "{\n",
            "\"title\": \"<b>빅데이터</b>학원 나만의 커리어 쌓자\",\n",
            "\"link\": \"https://blog.naver.com/okebarii9?Redirect=Log&amp;logNo=221487321395\",\n",
            "\"description\": \"<b>빅데이터</b>학원들 중 전.문화된 교육기관이 그렇게 많아 보이지 않고 보통 그냥 컴퓨터 학원에서 프로그래밍 가르치는 느낌으로 가는 것 같은데 여기는 멘토링 제도가 있어요. 정형,반정형,비정형 데이터를 직접... \",\n",
            "\"bloggername\": \"같이 뛰는 대한민국을 위해!~\",\n",
            "\"bloggerlink\": \"https://blog.naver.com/okebarii9\",\n",
            "\"postdate\": \"20190313\"\n",
            "\n",
            "},\n",
            "{\n",
            "\"title\": \"한화생명 <b>빅데이터</b>팀, 2030세대 라이프스타일 완벽 분석\",\n",
            "\"link\": \"https://blog.naver.com/kja0830?Redirect=Log&amp;logNo=221462952129\",\n",
            "\"description\": \"얼마 전 한화생명 <b>빅데이터</b>팀은 한화 금융계열사 및 카드사 통계, 각종 SNS 데이터 등 약 3,500만 개의 <b>빅데이터</b>를 활용해 주력 소비층이 될 2030 밀레니얼 세대를 분석한 자료를 발표했습니다. 한화생명... \",\n",
            "\"bloggername\": \"여행 좀 하는 여자\",\n",
            "\"bloggerlink\": \"https://blog.naver.com/kja0830\",\n",
            "\"postdate\": \"20190211\"\n",
            "\n",
            "},\n",
            "{\n",
            "\"title\": \"캐나다 조지안컬리지 <b>빅데이터</b> 재학생이 알게된 취업... \",\n",
            "\"link\": \"https://blog.naver.com/mtmoak29wv?Redirect=Log&amp;logNo=221489980422\",\n",
            "\"description\": \"부족하다면, 데이터분석( Research Analyst) 학과 + <b>빅데이터</b>학과 (또는 프로젝트메니지먼트학과) 지원을 추천한다고 합니다. 즉 <b>빅데이터</b>학과에는 초기 개설후 몇년이 지나면서, 학과의 분위기가 프로그래밍... \",\n",
            "\"bloggername\": \"탑캐나다유학&이민\",\n",
            "\"bloggerlink\": \"https://blog.naver.com/mtmoak29wv\",\n",
            "\"postdate\": \"20190316\"\n",
            "\n",
            "},\n",
            "{\n",
            "\"title\": \"한화생명 <b>빅데이터</b>팀이 알아낸 직장인 vs 자영업자&quot;의... \",\n",
            "\"link\": \"https://blog.naver.com/film1982?Redirect=Log&amp;logNo=221465322620\",\n",
            "\"description\": \"데이터, <b>빅데이터</b>... 도대체 &quot;<b>빅데이터</b>&quot;가 뭔가요? 일단 제가 &quot;<b>빅데이터</b>&quot;에 관심을 갖기 시작한건 2014년, 넷플릭스를 처음 이용했을 때였습니다. 당시 오리지널 드라마 &lt;하우스 오브 카드&gt;가 이용자들의... \",\n",
            "\"bloggername\": \"아톰비트의 감성드라마 팩토리\",\n",
            "\"bloggerlink\": \"https://blog.naver.com/film1982\",\n",
            "\"postdate\": \"20190214\"\n",
            "\n",
            "},\n",
            "{\n",
            "\"title\": \"<b>빅데이터</b>에 대한 철학적 고찰—파놉티콘으로서의 <b>빅데이터</b>\",\n",
            "\"link\": \"https://blog.naver.com/them1?Redirect=Log&amp;logNo=221471808374\",\n",
            "\"description\": \"있는 <b>빅데이터</b>에 대한 환상을 낳는다. 가장 명확한 진리를 전달해주리란 믿음, 즉 &lt;데이터교(敎)&gt;의 발흥 말이다. 데이터교의 행동강령인 &lt;경험하면 기록하라, 기록하면 업로드하라, 업로드하면 공유하라... \",\n",
            "\"bloggername\": \"도서관을 통째로.\",\n",
            "\"bloggerlink\": \"https://blog.naver.com/them1\",\n",
            "\"postdate\": \"20190222\"\n",
            "\n",
            "}\n",
            "]\n",
            "}\n",
            "\n"
          ],
          "name": "stdout"
        }
      ]
    },
    {
      "metadata": {
        "id": "0EgZHT-SOglo",
        "colab_type": "code",
        "colab": {}
      },
      "cell_type": "code",
      "source": [
        ""
      ],
      "execution_count": 0,
      "outputs": []
    },
    {
      "metadata": {
        "id": "lBxBfrlOObw5",
        "colab_type": "code",
        "colab": {}
      },
      "cell_type": "code",
      "source": [
        ""
      ],
      "execution_count": 0,
      "outputs": []
    }
  ]
}